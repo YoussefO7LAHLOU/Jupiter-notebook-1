{
 "cells": [
  {
   "cell_type": "markdown",
   "id": "34869666",
   "metadata": {},
   "source": [
    "# Data Science Tools and Ecosystem"
   ]
  },
  {
   "cell_type": "markdown",
   "id": "ff4918ac",
   "metadata": {},
   "source": [
    "In this notebook, Data Science Tools and Ecosystem are summarized."
   ]
  },
  {
   "cell_type": "markdown",
   "id": "0bcc1b75",
   "metadata": {},
   "source": [
    "**Objectives:**\n",
    "    \n",
    "    - List popular programing languages\n",
    "    \n",
    "    - List commonly used libraries for data scientist \n",
    "    \n",
    "    - how to creat and share your jupiter notebook "
   ]
  },
  {
   "cell_type": "markdown",
   "id": "140b7b93",
   "metadata": {},
   "source": [
    "Some of the popular languages that Data Scientists use are:\n",
    "\n",
    "    1. Python\n",
    "    \n",
    "    2. SQL\n",
    "    \n",
    "    3. R"
   ]
  },
  {
   "cell_type": "markdown",
   "id": "5657c5b1",
   "metadata": {},
   "source": [
    "Some of the commonly used libraries used by Data Scientists include:\n",
    "\n",
    "    1. NUMPY\n",
    "    \n",
    "    2. SCIPI\n",
    "    \n",
    "    3. PANDAS\n",
    "    "
   ]
  },
  {
   "cell_type": "markdown",
   "id": "fa5158e5",
   "metadata": {},
   "source": [
    "| Data Science Tools |\n",
    " -------------------\n",
    "| Jupyter Notebooks |\n",
    "| RStudio | \n",
    "| Apache Zeppelin |\n"
   ]
  },
  {
   "cell_type": "markdown",
   "id": "187b03bb",
   "metadata": {},
   "source": [
    "### Below are a few examples of evaluating arithmetic expressions in Python\n"
   ]
  },
  {
   "cell_type": "code",
   "execution_count": 13,
   "id": "ff886959",
   "metadata": {},
   "outputs": [
    {
     "name": "stdout",
     "output_type": "stream",
     "text": [
      "This a simple arithmetic expression to mutiply then add integers\n"
     ]
    },
    {
     "data": {
      "text/plain": [
       "17"
      ]
     },
     "execution_count": 13,
     "metadata": {},
     "output_type": "execute_result"
    }
   ],
   "source": [
    "print(\"This a simple arithmetic expression to mutiply then add integers\")\n",
    "(3*4)+5"
   ]
  },
  {
   "cell_type": "code",
   "execution_count": 14,
   "id": "46a07056",
   "metadata": {},
   "outputs": [
    {
     "name": "stdout",
     "output_type": "stream",
     "text": [
      "This will convert 200 minutes to hours by diving by 60\n"
     ]
    },
    {
     "data": {
      "text/plain": [
       "3.3333333333333335"
      ]
     },
     "execution_count": 14,
     "metadata": {},
     "output_type": "execute_result"
    }
   ],
   "source": [
    "print(\"This will convert 200 minutes to hours by diving by 60\")\n",
    "200/60"
   ]
  },
  {
   "cell_type": "markdown",
   "id": "c747b454",
   "metadata": {},
   "source": [
    "## Author \n"
   ]
  },
  {
   "cell_type": "markdown",
   "id": "e4e128d6",
   "metadata": {},
   "source": [
    "Youssef LAHLOU "
   ]
  },
  {
   "cell_type": "code",
   "execution_count": null,
   "id": "f51eff9a",
   "metadata": {},
   "outputs": [],
   "source": []
  }
 ],
 "metadata": {
  "kernelspec": {
   "display_name": "Python 3 (ipykernel)",
   "language": "python",
   "name": "python3"
  },
  "language_info": {
   "codemirror_mode": {
    "name": "ipython",
    "version": 3
   },
   "file_extension": ".py",
   "mimetype": "text/x-python",
   "name": "python",
   "nbconvert_exporter": "python",
   "pygments_lexer": "ipython3",
   "version": "3.11.5"
  }
 },
 "nbformat": 4,
 "nbformat_minor": 5
}
